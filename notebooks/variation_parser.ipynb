{
 "cells": [
  {
   "cell_type": "code",
   "execution_count": null,
   "metadata": {},
   "outputs": [],
   "source": [
    "import sys\n",
    "\n",
    "import seaborn as sns\n",
    "\n",
    "sns.set()\n",
    "# allows the import of scripts relative to project root\n",
    "from scripts.parse_variation import DivergenceParser, make_countplots"
   ]
  },
  {
   "cell_type": "markdown",
   "metadata": {},
   "source": [
    "## Finding diverging positions in a single spike protein across samples"
   ]
  },
  {
   "cell_type": "markdown",
   "metadata": {},
   "source": [
    "To recap: \n",
    "    1. I took a few GISAID samples, translated them to proteins\n",
    "        accoridng to open reading frames. \n",
    "    2. I then globally align all these sequences with a single \n",
    "        canonical protein. \n",
    "    3. Parsing the alignment file gives me a one-to-many sequence\n",
    "        and sequences that are >90% identical are selected and written \n",
    "        in a separate file, which is then passed on to this code. "
   ]
  },
  {
   "cell_type": "markdown",
   "metadata": {},
   "source": [
    "#### And now, I do the following: \n",
    "        \n",
    "This code will turn each sequence into a numpy array and then calculate the \n",
    "conservation score via Shannon Entropy and plot the standardized normalized score\n",
    "on a seaborn line plot\n",
    "\n",
    "#### The code itself\n",
    "If you're looking for the code, my friend Viktor contributed by pulling the\n",
    "code from the scripts folder. The code can be found here:\n",
    "    https://github.com/nadzhou/CoVPeek/blob/master/scripts/parse_variation.py"
   ]
  },
  {
   "cell_type": "code",
   "execution_count": null,
   "metadata": {},
   "outputs": [],
   "source": [
    "# Load the aligned FASTA file\n",
    "aligned_path = \"gisaid_results/mafft_aligned.fasta\"\n",
    "parser1 = DivergenceParser.retrieve_sequence(aligned_path)\n",
    "fig1 = parser1.plot_variation()\n",
    "fig1.show()\n"
   ]
  },
  {
   "cell_type": "markdown",
   "metadata": {},
   "source": [
    "## Cross-check with another sample\n",
    "The plot here shows that for this given GISAID dataset (about 16k sequences in total), the divergence at the 613th position shows the highest amount of divergence. In fact, we can see that the position can have all the possible amino acids in that position. \n",
    "I've done this for another GISAID sample (a comparatively smaller one) that shows that this position does indeed show maximum divergence. "
   ]
  },
  {
   "cell_type": "code",
   "execution_count": null,
   "metadata": {},
   "outputs": [],
   "source": [
    "aligned_path2 = \"/home/nadzhou/SEQs/id_MAFFT0.fasta\"\n",
    "# we use the previous dataset, since GISAID data can not be shared\n",
    "parser2 = DivergenceParser.retrieve_sequence(aligned_path)\n",
    "fig2 = parser2.plot_variation()\n",
    "fig2.show()"
   ]
  },
  {
   "cell_type": "markdown",
   "metadata": {},
   "source": [
    "## Validation\n",
    "Seems like this 614th position is not new. This has already been reported in the following Biorxiv paper:\n",
    "        https://www.biorxiv.org/content/10.1101/2020.04.29.069054v1.full.pdf\n",
    "    \n",
    "    \n",
    " From the article's abstract: \n",
    " \n",
    "  \"Here we describe a three-stage data pipeline (analysis of daily GISAID data, structural modeling \n",
    "  of sites of interest, and experimental evaluation) and the identification of several sites of \n",
    "  positive selection, including one (D614G) thatmay have originated either in China or Europe, but begin \n",
    "  to spread rapidly first in Europe, and then in otherparts of the world,and which is now the dominant \n",
    "  pandemic form in many countries.\""
   ]
  },
  {
   "cell_type": "markdown",
   "metadata": {},
   "source": [
    "## Contribution\n",
    "### The 614th psoition doesn't just show substition between 2 amino acids, but multiple. \n",
    "Here however, I present the result that this 614th position doesn't only contain aspartic acid / glutamine substitution, but this position can be substituted by ALL amino acids. \n",
    "\n",
    "### There's a strong bias against Histidine, Methionine and Tryptophan at the 614th position.\n",
    "As can be seen in the subsequent graph, there's a strong bias against the three amino acids. This seems to be an important result coming from the given samples from across the globe. "
   ]
  },
  {
   "cell_type": "code",
   "execution_count": null,
   "metadata": {},
   "outputs": [],
   "source": [
    "aa1 = parser1.aminoacids_in_variable_positions()[614]\n",
    "aa2 = parser2.aminoacids_in_variable_positions()[614]\n",
    "countplots = make_countplots(aa1,aa2)\n",
    "countplots.show()"
   ]
  }
 ],
 "metadata": {
  "kernelspec": {
   "name": "python3",
   "language": "python",
   "display_name": "Python 3"
  },
  "language_info": {
   "codemirror_mode": {
    "name": "ipython",
    "version": 3
   },
   "file_extension": ".py",
   "mimetype": "text/x-python",
   "name": "python",
   "nbconvert_exporter": "python",
   "pygments_lexer": "ipython3",
   "version": "3.7.4-final"
  }
 },
 "nbformat": 4,
 "nbformat_minor": 4
}
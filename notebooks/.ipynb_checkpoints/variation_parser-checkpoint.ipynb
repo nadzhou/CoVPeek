{
 "cells": [
  {
   "cell_type": "code",
   "execution_count": 1,
   "metadata": {},
   "outputs": [],
   "source": [
    "import numpy as np\n",
    "import pandas as pd\n",
    "from pathlib import Path\n",
    "\n",
    "from Bio import AlignIO\n",
    "from Bio import SeqIO\n",
    "\n",
    "import matplotlib.pyplot as plt\n",
    "import seaborn as sns; sns.set()\n",
    "\n",
    "from collections import Counter\n",
    "\n",
    "import sys"
   ]
  },
  {
   "cell_type": "markdown",
   "metadata": {},
   "source": [
    "## Finding diverging positions in a single spike protein across samples"
   ]
  },
  {
   "cell_type": "markdown",
   "metadata": {},
   "source": [
    "To recap: \n",
    "    1. I took a few GISAID samples, translated them to proteins\n",
    "        accoridng to open reading frames. \n",
    "    2. I then globally align all these sequences with a single \n",
    "        canonical protein. \n",
    "    3. Parsing the alignment file gives me a one-to-many sequence\n",
    "        and sequences that are >90% identical are selected and written \n",
    "        in a separate file, which is then passed on to this code. "
   ]
  },
  {
   "cell_type": "markdown",
   "metadata": {},
   "source": [
    "#### And now, I do the following: \n",
    "        \n",
    "This code will turn each sequence into a numpy array and then calculate the \n",
    "conservation score via Shannon Entropy and plot the standardized normalized score\n",
    "on a seaborn line plot. "
   ]
  },
  {
   "cell_type": "code",
   "execution_count": 2,
   "metadata": {},
   "outputs": [],
   "source": [
    "class DivergenceParser: \n",
    "    \"\"\"Parse the globally aligned sequences to look for divergence\"\"\"\n",
    "    \n",
    "    def retrieve_dna(self, aligned_path): \n",
    "        \"\"\"Extract the protein sequence from the FASTA file\"\"\"\n",
    "\n",
    "        records = list(SeqIO.parse(aligned_path, \"fasta\"))\n",
    "        seqs = [[x for x in y] for y in records]\n",
    "\n",
    "        return seqs\n",
    "    \n",
    "\n",
    "    def seq2np(self, seq): \n",
    "        \"\"\"\"Turn the sequence into numpy S1 array for calculations later. \n",
    "\n",
    "        Args: \n",
    "            seq [2d list]: List of lists that contain sequences \n",
    "\n",
    "        Returns: \n",
    "            np array [2d np array]: Np array that turns the chars into bytes\n",
    "\n",
    "        \"\"\"\n",
    "\n",
    "        return np.asarray(seq, dtype='S1')\n",
    "\n",
    "\n",
    "\n",
    "    def normalize_data(self, ent_list): \n",
    "        \"\"\"Takes the entropy array and normalizes the data. \n",
    "\n",
    "        Args: \n",
    "            ent_list [Nd array]: Entropy float array\n",
    "\n",
    "        Returns: \n",
    "            Normalized list [nd array]: Values between -1 and 1\n",
    "\n",
    "        \"\"\"\n",
    "\n",
    "        return -(ent_list - np.mean(ent_list, axis=0)) / np.std(ent_list, axis=0)  \n",
    "\n",
    "\n",
    "\n",
    "\n",
    "\n",
    "    def _shannon(self, array): \n",
    "        \"\"\"Calculate Shannon Entropy vertically via loop. \n",
    "\n",
    "        Args: \n",
    "            array [nd array]: 1d array of sequences from all the species\n",
    "\n",
    "        Returns: \n",
    "            entropy [nd float array]: Per column value for each position vertically\n",
    "\n",
    "        \"\"\"\n",
    "        \n",
    "        aa_count = Counter(array)\n",
    "\n",
    "        pA = 1\n",
    "        for k, v in aa_count.items(): \n",
    "            pA *= (v / 21)\n",
    "\n",
    "        return -np.sum(pA*np.log2(pA))\n",
    "\n",
    "    \n",
    "\n",
    "    def conservation_score(self, np_seq): \n",
    "        \"\"\"Calculate the Shannon Entropy vertically\n",
    "        for each position in the amino acid msa sequence.\n",
    "\n",
    "        Args: \n",
    "            np_seq [Numpy nd array]: Np array of sequences\n",
    "\n",
    "        Returns: \n",
    "            np apply array [nd float array]: Calculate conservation \n",
    "            scores vertically into a float nd array   \n",
    "        \"\"\"\n",
    "\n",
    "        return np.apply_along_axis(self._shannon, 0, np_seq)  \n",
    "\n",
    "\n",
    "\n",
    "    def moving_average(self, data, n=3) :\n",
    "        \"\"\"Calculated the rolling average of teh data\n",
    "\n",
    "        Args: \n",
    "            data [numpy nd array]: Float array of the conservation score calculated\n",
    "            n [int]: Rolling average wegith\n",
    "\n",
    "        Returns: \n",
    "            avg_data [numpy nd array]: Float array of rolling average\n",
    "\n",
    "        \"\"\"\n",
    "        \n",
    "        avg_data = np.cumsum(data, dtype=float)\n",
    "        avg_data[n:] = avg_data[n:] - avg_data[:-n]\n",
    "\n",
    "        return avg_data[n - 1:] / n\n",
    "\n",
    "\n",
    "    def label_plot(self, norm_list, norm_list_len, val, ax): \n",
    "        \"\"\"Label the amino acids that are diverging from the aligned sequences\"\"\"\n",
    "        \n",
    "        a = np.concatenate({'x': norm_list_len, 'y': norm_list, 'val': val}, axis=1)\n",
    "        for i, point in a.iteritems(): \n",
    "            ax.text(point['x']+.02, point['y'], str(point['val']))\n"
   ]
  },
  {
   "cell_type": "code",
   "execution_count": 3,
   "metadata": {},
   "outputs": [
    {
     "name": "stdout",
     "output_type": "stream",
     "text": [
      "['A', 'C', 'D', 'E', 'F', 'G', 'H', 'I', 'K', 'L', 'M', 'N', 'P', 'Q', 'R', 'S', 'T', 'V', 'W', 'Y']\n"
     ]
    },
    {
     "data": {
      "image/png": "[encoded data removed]",
      "text/plain": [
       "<Figure size 1080x720 with 1 Axes>"
      ]
     },
     "metadata": {},
     "output_type": "display_data"
    }
   ],
   "source": [
    "# Load the aligned FASTA file\n",
    "aligned_path = \"gisaid_results/mafft_aligned.fasta\"\n",
    "\n",
    "# Call an instance of the class\n",
    "inst = DivergenceParser()\n",
    "\n",
    "seqs = inst.retrieve_dna(aligned_path)\n",
    "\n",
    "np_seq = inst.seq2np(seqs)\n",
    "\n",
    "ent_list = inst.conservation_score(np_seq)\n",
    "norm_list = inst.normalize_data(ent_list)\n",
    "\n",
    "norm_list_len = np.arange(len(norm_list))\n",
    "\n",
    "plt.figure(figsize=(15, 10))\n",
    "ax=sns.lineplot (norm_list_len, norm_list, color=\"purple\")\n",
    "\n",
    "plt.xlabel(\"Amino acid position\", fontsize=14)\n",
    "plt.title(\"Variation in the CoV spike protein\", fontsize=14)\n",
    "plt.ylabel(\"Variation score\", fontsize=14)\n",
    "\n",
    "for x, y, name in zip(norm_list_len, norm_list, np_seq): \n",
    "    if y > 5: \n",
    "        aa_s = sorted(set(name.astype(str)))\n",
    "        print(aa_s)\n",
    "        ax.text(x,y, len(aa_s), color='b')\n",
    "plt.show()\n",
    "\n"
   ]
  },
  {
   "cell_type": "markdown",
   "metadata": {},
   "source": [
    "## Cross-check with another sample\n",
    "The plot here shows that for this given GISAID dataset (about 16k sequences in total), the divergence at the 613th position shows the highest amount of divergence. In fact, we can see that the position can have all the possible amino acids in that position. \n",
    "I've done this for another GISAID sample (a comparatively smaller one) that shows that this position does indeed show maximum divergence. "
   ]
  },
  {
   "cell_type": "code",
   "execution_count": 1,
   "metadata": {},
   "outputs": [
    {
     "ename": "NameError",
     "evalue": "name 'Path' is not defined",
     "output_type": "error",
     "traceback": [
      "\u001b[0;31m---------------------------------------------------------------------------\u001b[0m",
      "\u001b[0;31mNameError\u001b[0m                                 Traceback (most recent call last)",
      "\u001b[0;32m<ipython-input-1-d54267f77457>\u001b[0m in \u001b[0;36m<module>\u001b[0;34m\u001b[0m\n\u001b[0;32m----> 1\u001b[0;31m \u001b[0maligned_path2\u001b[0m \u001b[0;34m=\u001b[0m \u001b[0mPath\u001b[0m\u001b[0;34m(\u001b[0m\u001b[0;34m\"gisaid_results/trimmed_seqs.fasta\"\u001b[0m\u001b[0;34m)\u001b[0m\u001b[0;34m\u001b[0m\u001b[0;34m\u001b[0m\u001b[0m\n\u001b[0m\u001b[1;32m      2\u001b[0m \u001b[0;34m\u001b[0m\u001b[0m\n\u001b[1;32m      3\u001b[0m \u001b[0minst2\u001b[0m \u001b[0;34m=\u001b[0m \u001b[0mDivergenceParser\u001b[0m\u001b[0;34m(\u001b[0m\u001b[0;34m)\u001b[0m\u001b[0;34m\u001b[0m\u001b[0;34m\u001b[0m\u001b[0m\n\u001b[1;32m      4\u001b[0m \u001b[0;34m\u001b[0m\u001b[0m\n\u001b[1;32m      5\u001b[0m \u001b[0;34m\u001b[0m\u001b[0m\n",
      "\u001b[0;31mNameError\u001b[0m: name 'Path' is not defined"
     ]
    }
   ],
   "source": [
    "aligned_path2 = Path(\"gisaid_results/trimmed_seqs.fasta\")\n",
    "\n",
    "inst2 = DivergenceParser()\n",
    "\n",
    "\n",
    "seqs2 = inst2.retrieve_dna(aligned_path)\n",
    "\n",
    "np_seq2 = inst2.seq2np(seqs)\n",
    "\n",
    "ent_list2 = inst2.conservation_score(np_seq)\n",
    "norm_list2 = inst2.normalize_data(ent_list)\n",
    "\n",
    "norm_list_len2 = np.arange(len(norm_list2))\n",
    "\n",
    "plt.figure(figsize=(15, 10))\n",
    "ax2=sns.lineplot (norm_list_len2, norm_list2)\n",
    "\n",
    "plt.xlabel(\"Amino acid position\", fontsize=14)\n",
    "plt.title(\"Variation in the CoV spike protein\", fontsize=14)\n",
    "plt.ylabel(\"Variation score\", fontsize=14)\n",
    "\n",
    "for x2, y2, name in zip(norm_list_len2, norm_list2, np_seq2): \n",
    "    if y2 > 5: \n",
    "        aa_s2 = sorted(set(name.astype(str)))\n",
    "        print(aa_s2)\n",
    "        ax2.text(x2,y2, len(aa_s2), color='b')\n",
    "                \n",
    "plt.show()"
   ]
  },
  {
   "cell_type": "markdown",
   "metadata": {},
   "source": [
    "## Validation\n",
    "Seems like this 614th position (I start with 0, so mine is 613) is not new. This has already been reported in the following Biorxiv paper: \n",
    "    https://www.biorxiv.org/content/10.1101/2020.04.29.069054v1.full.pdf\n",
    "    \n",
    "    \n",
    " From the article's abstract: \n",
    "  \" Here we describe a three-stage data pipeline (analysis of daily GISAID data, structural modeling of sites of interest, and experimentalevaluation) and the identification of several sites of positive selection, including one (D614G) thatmay have originated either in China or Europe, butbegin tospread rapidly first in Europe, and thenin otherparts of the world,and which is now the dominant pandemic form in manycountries.\""
   ]
  },
  {
   "cell_type": "markdown",
   "metadata": {},
   "source": [
    "## Contribution\n",
    "Here however, I present the result that this 614th position doesn't only contain aspartic acid / glutamine substitution, but this position can be substituted by ALL amino acids. \n",
    "\n",
    "What I can surmise is that the position isn't affected by mutation since there's no base bias towards one or any other physiochemically similar proteins. "
   ]
  }
 ],
 "metadata": {
  "kernelspec": {
   "display_name": "Python 3.7.4 64-bit ('base': conda)",
   "language": "python",
   "name": "python37464bitbaseconda43fadde7e58c4548aa12aceadbad2f74"
  },
  "language_info": {
   "codemirror_mode": {
    "name": "ipython",
    "version": 3
   },
   "file_extension": ".py",
   "mimetype": "text/x-python",
   "name": "python",
   "nbconvert_exporter": "python",
   "pygments_lexer": "ipython3",
   "version": "3.7.4"
  }
 },
 "nbformat": 4,
 "nbformat_minor": 4
}
